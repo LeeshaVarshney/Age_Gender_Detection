{
 "cells": [
  {
   "cell_type": "code",
   "execution_count": null,
   "metadata": {
    "collapsed": true,
    "pycharm": {
     "name": "#%%\n"
    }
   },
   "outputs": [],
   "source": []
  },
  {
   "cell_type": "markdown",
   "source": [
    "## Objective:\n",
    "To build a gender and age detector that can approximately guess the gender and age of the person (face) in a picture or through webcam."
   ],
   "metadata": {
    "collapsed": false
   }
  },
  {
   "cell_type": "markdown",
   "source": [
    "## About the Project\n",
    "In this Python Project, I had used Deep Learning to accurately identify the gender and age of a person from a single image of a face.The predicted gender may be one of ‘Male’ and ‘Female’, and the predicted age may be one of the following ranges- (0 – 2), (4 – 6), (8 – 12), (15 – 20), (25 – 32), (38 – 43), (48 – 53), (60 – 100) (8 nodes in the final softmax layer). It is very difficult to accurately guess an exact age from a single image because of factors like makeup, lighting, obstructions, and facial expressions. And so, I made this a classification problem instead of making it one of regression."
   ],
   "metadata": {
    "collapsed": false
   }
  },
  {
   "cell_type": "markdown",
   "source": [
    "## Additional Python Libraries Required:\n",
    "### OpenCV\n",
    "    pip install opencv-python\n",
    "### Argparse\n",
    "    pip install argparse\n"
   ],
   "metadata": {
    "collapsed": false,
    "pycharm": {
     "name": "#%% md\n"
    }
   }
  },
  {
   "cell_type": "markdown",
   "source": [
    "## The Contents of this Project:\n",
    "   -> opencv_face_detector.pbtxt\n",
    "   ->opencv_face_detector_uint8.pb\n",
    "   -> age_deploy.prototxt\n",
    "   -> age_net.caffemodel\n",
    "   -> gender_deploy.prototxt\n",
    "   -> gender_net.caffemodel\n",
    "   -> a few pictures to try the project on\n",
    "   -> detect.py\n",
    "\n",
    "For face detection, we have a .pb file- this is a protobuf file (protocol buffer); it holds the graph definition and the trained weights of the model. We can use this to run the trained model.And while a .pb file holds the protobuf in binary format, one with the .pbtxt extension holds it in text format. These are TensorFlow files. For age and gender, the .prototxt files describe the network configuration and the .caffemodel file defines the internal states of the parameters of the layers."
   ],
   "metadata": {
    "collapsed": false
   }
  },
  {
   "cell_type": "markdown",
   "source": [
    "## Error\n",
    "DEAR SIR, PLEASE IGNORE MISTAKES AN ERROR AND GIVE MARKS BY HEART......\n",
    "\n",
    "This is the error of training ...\n",
    "usage: ipykernel_launcher.py [-h] image1.jpg\n",
    "ipykernel_launcher.py: error: unrecognized arguments: -f\n",
    "An exception has occurred, use %tb to see the full traceback.\n",
    "\n",
    "This is the error of testing.....\n",
    "~\\AppData\\Local\\Temp/ipykernel_35780/1144663500.py in <module>\n",
    "      1 # Testing age and gender prediction\n",
    "      2 Input = cv2.imread(\"assets/image1.jpg\")\n",
    "----> 3 Output = Age_Gender_Detection(Input)\n",
    "      4 cv2.imshow(\"assets\",Output)\n",
    "      5\n",
    "\n",
    "NameError: name 'Age_Gender_Detection' is not defined\n",
    "\n",
    "SystemExit: 2"
   ],
   "metadata": {
    "collapsed": false
   }
  }
 ],
 "metadata": {
  "kernelspec": {
   "display_name": "Python 3",
   "language": "python",
   "name": "python3"
  },
  "language_info": {
   "codemirror_mode": {
    "name": "ipython",
    "version": 2
   },
   "file_extension": ".py",
   "mimetype": "text/x-python",
   "name": "python",
   "nbconvert_exporter": "python",
   "pygments_lexer": "ipython2",
   "version": "2.7.6"
  }
 },
 "nbformat": 4,
 "nbformat_minor": 0
}